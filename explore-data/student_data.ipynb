{
 "cells": [
  {
   "cell_type": "markdown",
   "id": "72256a7e",
   "metadata": {},
   "source": [
    "# Student data\n",
    "This notebook analyizes pass/fail data from a class"
   ]
  },
  {
   "cell_type": "markdown",
   "id": "723b326f",
   "metadata": {},
   "source": [
    "data  = [50,50,47,97,49,3,53,42,26,74,82,62,37,15,70,27,36,35,48,52,63,64]"
   ]
  }
 ],
 "metadata": {
  "language_info": {
   "name": "python"
  }
 },
 "nbformat": 4,
 "nbformat_minor": 5
}
